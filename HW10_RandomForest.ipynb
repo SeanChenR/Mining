{
 "cells": [
  {
   "cell_type": "code",
   "execution_count": 1,
   "id": "d4d7eb30",
   "metadata": {},
   "outputs": [],
   "source": [
    "import numpy as np\n",
    "import matplotlib.pyplot as plt\n",
    "import pandas as pd\n",
    "\n",
    "dataset = pd.read_csv(\"Social_Network_Ads.csv\")\n",
    "X = dataset.iloc[: , :-1].values\n",
    "y = dataset.iloc[: , -1].values\n",
    "\n",
    "from sklearn.model_selection import train_test_split\n",
    "X_train , X_test , y_train , y_test = train_test_split(X , y , test_size = 0.25 , random_state = 0)\n",
    "\n",
    "from sklearn.preprocessing import StandardScaler\n",
    "sc = StandardScaler()\n",
    "X_train = sc.fit_transform(X_train)\n",
    "X_test = sc.fit_transform(X_test)"
   ]
  },
  {
   "cell_type": "code",
   "execution_count": 2,
   "id": "a3ecad05",
   "metadata": {},
   "outputs": [
    {
     "name": "stdout",
     "output_type": "stream",
     "text": [
      "[[63  5]\n",
      " [ 3 29]]\n",
      "Test Sets Accuracy : 92.00%\n"
     ]
    },
    {
     "data": {
      "image/png": "[encoded data removed]",
      "text/plain": [
       "<Figure size 432x288 with 2 Axes>"
      ]
     },
     "metadata": {
      "needs_background": "light"
     },
     "output_type": "display_data"
    },
    {
     "name": "stdout",
     "output_type": "stream",
     "text": [
      "[1.    0.75  0.9   0.95  0.975 0.9   0.8   0.825 0.8   0.95 ]\n",
      "k-Fold Cross Validation Accuarcy : 88.50%\n",
      "k-Fold Cross Validation Standard Deviation : 8.15%\n"
     ]
    }
   ],
   "source": [
    "from sklearn.ensemble import RandomForestClassifier\n",
    "classifier = RandomForestClassifier(n_estimators = 100 , criterion = 'entropy' , random_state = 0)\n",
    "classifier.fit(X_train , y_train)\n",
    "\n",
    "from sklearn.metrics import confusion_matrix , accuracy_score , ConfusionMatrixDisplay\n",
    "y_pred = classifier.predict(X_test)\n",
    "cm = confusion_matrix(y_test , y_pred)\n",
    "print(cm)\n",
    "print(\"Test Sets Accuracy : {:.2f}%\" .format(accuracy_score(y_test , y_pred)*100))\n",
    "disp = ConfusionMatrixDisplay(confusion_matrix = cm)\n",
    "disp.plot()\n",
    "plt.show()\n",
    "\n",
    "from sklearn.model_selection import cross_val_score\n",
    "accuracies = cross_val_score(estimator = classifier , X = X , y = y , cv = 10)\n",
    "print(accuracies)\n",
    "print(\"k-Fold Cross Validation Accuarcy : {:.2f}%\" .format(accuracies.mean()*100))\n",
    "print(\"k-Fold Cross Validation Standard Deviation : {:.2f}%\" .format(accuracies.std()*100))"
   ]
  },
  {
   "cell_type": "code",
   "execution_count": null,
   "id": "b18de9a1",
   "metadata": {},
   "outputs": [],
   "source": []
  }
 ],
 "metadata": {
  "kernelspec": {
   "display_name": "Python 3",
   "language": "python",
   "name": "python3"
  },
  "language_info": {
   "codemirror_mode": {
    "name": "ipython",
    "version": 3
   },
   "file_extension": ".py",
   "mimetype": "text/x-python",
   "name": "python",
   "nbconvert_exporter": "python",
   "pygments_lexer": "ipython3",
   "version": "3.8.8"
  }
 },
 "nbformat": 4,
 "nbformat_minor": 5
}
